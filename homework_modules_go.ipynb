{
 "cells": [
  {
   "cell_type": "code",
   "execution_count": 1,
   "metadata": {
    "id": "3MeKai5Xj6eX"
   },
   "outputs": [],
   "source": [
    "import numpy as np"
   ]
  },
  {
   "cell_type": "markdown",
   "metadata": {
    "id": "wwlFrG-Tj6eY"
   },
   "source": [
    "**Module** is an abstract class which defines fundamental methods necessary for a training a neural network. You do not need to change anything here, just read the comments."
   ]
  },
  {
   "cell_type": "code",
   "execution_count": 2,
   "metadata": {
    "id": "W8BLmtZ3j6eZ"
   },
   "outputs": [],
   "source": [
    "class Module(object):\n",
    "    \"\"\"\n",
    "    Basically, you can think of a module as of a something (black box)\n",
    "    which can process `input` data and produce `ouput` data.\n",
    "    This is like applying a function which is called `forward`:\n",
    "\n",
    "        output = module.forward(input)\n",
    "\n",
    "    The module should be able to perform a backward pass: to differentiate the `forward` function.\n",
    "    More, it should be able to differentiate it if is a part of chain (chain rule).\n",
    "    The latter implies there is a gradient from previous step of a chain rule.\n",
    "\n",
    "        gradInput = module.backward(input, gradOutput)\n",
    "    \"\"\"\n",
    "    def __init__ (self):\n",
    "        self.output = None\n",
    "        self.gradInput = None\n",
    "        self.training = True\n",
    "\n",
    "    def forward(self, input):\n",
    "        \"\"\"\n",
    "        Takes an input object, and computes the corresponding output of the module.\n",
    "        \"\"\"\n",
    "        return self.updateOutput(input)\n",
    "\n",
    "    def backward(self,input, gradOutput):\n",
    "        \"\"\"\n",
    "        Performs a backpropagation step through the module, with respect to the given input.\n",
    "\n",
    "        This includes\n",
    "         - computing a gradient w.r.t. `input` (is needed for further backprop),\n",
    "         - computing a gradient w.r.t. parameters (to update parameters while optimizing).\n",
    "        \"\"\"\n",
    "        self.updateGradInput(input, gradOutput)\n",
    "        self.accGradParameters(input, gradOutput)\n",
    "        return self.gradInput\n",
    "\n",
    "\n",
    "    def updateOutput(self, input):\n",
    "        \"\"\"\n",
    "        Computes the output using the current parameter set of the class and input.\n",
    "        This function returns the result which is stored in the `output` field.\n",
    "\n",
    "        Make sure to both store the data in `output` field and return it.\n",
    "        \"\"\"\n",
    "\n",
    "        # The easiest case:\n",
    "\n",
    "        # self.output = input\n",
    "        # return self.output\n",
    "\n",
    "        pass\n",
    "\n",
    "    def updateGradInput(self, input, gradOutput):\n",
    "        \"\"\"\n",
    "        Computing the gradient of the module with respect to its own input.\n",
    "        This is returned in `gradInput`. Also, the `gradInput` state variable is updated accordingly.\n",
    "\n",
    "        The shape of `gradInput` is always the same as the shape of `input`.\n",
    "\n",
    "        Make sure to both store the gradients in `gradInput` field and return it.\n",
    "        \"\"\"\n",
    "\n",
    "        # The easiest case:\n",
    "\n",
    "        # self.gradInput = gradOutput\n",
    "        # return self.gradInput\n",
    "\n",
    "        pass\n",
    "\n",
    "    def accGradParameters(self, input, gradOutput):\n",
    "        \"\"\"\n",
    "        Computing the gradient of the module with respect to its own parameters.\n",
    "        No need to override if module has no parameters (e.g. ReLU).\n",
    "        \"\"\"\n",
    "        pass\n",
    "\n",
    "    def zeroGradParameters(self):\n",
    "        \"\"\"\n",
    "        Zeroes `gradParams` variable if the module has params.\n",
    "        \"\"\"\n",
    "        pass\n",
    "\n",
    "    def getParameters(self):\n",
    "        \"\"\"\n",
    "        Returns a list with its parameters.\n",
    "        If the module does not have parameters return empty list.\n",
    "        \"\"\"\n",
    "        return []\n",
    "\n",
    "    def getGradParameters(self):\n",
    "        \"\"\"\n",
    "        Returns a list with gradients with respect to its parameters.\n",
    "        If the module does not have parameters return empty list.\n",
    "        \"\"\"\n",
    "        return []\n",
    "\n",
    "    def train(self):\n",
    "        \"\"\"\n",
    "        Sets training mode for the module.\n",
    "        Training and testing behaviour differs for Dropout, BatchNorm.\n",
    "        \"\"\"\n",
    "        self.training = True\n",
    "\n",
    "    def evaluate(self):\n",
    "        \"\"\"\n",
    "        Sets evaluation mode for the module.\n",
    "        Training and testing behaviour differs for Dropout, BatchNorm.\n",
    "        \"\"\"\n",
    "        self.training = False\n",
    "\n",
    "    def __repr__(self):\n",
    "        \"\"\"\n",
    "        Pretty printing. Should be overrided in every module if you want\n",
    "        to have readable description.\n",
    "        \"\"\"\n",
    "        return \"Module\""
   ]
  },
  {
   "cell_type": "markdown",
   "metadata": {
    "id": "mKRkIjT8j6eZ"
   },
   "source": [
    "# Sequential container"
   ]
  },
  {
   "cell_type": "markdown",
   "metadata": {
    "id": "Cb98PPpJj6ea"
   },
   "source": [
    "**Define** a forward and backward pass procedures."
   ]
  },
  {
   "cell_type": "code",
   "execution_count": 3,
   "metadata": {},
   "outputs": [],
   "source": [
    "class Sequential(Module):\n",
    "    \"\"\"\n",
    "    This class implements a container, which processes `input` data sequentially.\n",
    "\n",
    "    `input` is processed by each module (layer) in self.modules consecutively.\n",
    "    The resulting array is called `output`.\n",
    "    \"\"\"\n",
    "\n",
    "    def __init__(self):\n",
    "        super(Sequential, self).__init__()\n",
    "        self.modules = []\n",
    "\n",
    "    def add(self, module):\n",
    "        \"\"\"\n",
    "        Adds a module to the container.\n",
    "        \"\"\"\n",
    "        self.modules.append(module)\n",
    "\n",
    "    def updateOutput(self, input):\n",
    "        \"\"\"\n",
    "        Basic workflow of FORWARD PASS:\n",
    "\n",
    "            y_0    = module[0].forward(input)\n",
    "            y_1    = module[1].forward(y_0)\n",
    "            ...\n",
    "            output = module[n-1].forward(y_{n-2})\n",
    "\n",
    "        Just write a little loop.\n",
    "        \"\"\"\n",
    "        self.output = input\n",
    "        for module in self.modules:\n",
    "            self.output = module.forward(self.output)\n",
    "        return self.output\n",
    "\n",
    "    def backward(self, input, gradOutput):\n",
    "        \"\"\"\n",
    "        Workflow of BACKWARD PASS:\n",
    "\n",
    "            g_{n-1} = module[n-1].backward(y_{n-2}, gradOutput)\n",
    "            g_{n-2} = module[n-2].backward(y_{n-3}, g_{n-1})\n",
    "            ...\n",
    "            g_1 = module[1].backward(y_0, g_2)\n",
    "            gradInput = module[0].backward(input, g_1)\n",
    "\n",
    "        !!!\n",
    "\n",
    "        To each module you need to provide the input, module saw while forward pass,\n",
    "        it is used while computing gradients.\n",
    "        Make sure that the input for `i-th` layer the output of `module[i]` (just the same input as in forward pass)\n",
    "        and NOT `input` to this Sequential module.\n",
    "\n",
    "        !!!\n",
    "        \"\"\"\n",
    "        # First we need to compute all forward passes to get intermediate outputs\n",
    "        # We'll store them in a list\n",
    "        inputs = [input]\n",
    "        for module in self.modules[:-1]:\n",
    "            inputs.append(module.forward(inputs[-1]))\n",
    "        \n",
    "        # Now do backward pass in reverse order\n",
    "        self.gradInput = gradOutput\n",
    "        for i in range(len(self.modules)-1, 0, -1):\n",
    "            self.gradInput = self.modules[i].backward(inputs[i], self.gradInput)\n",
    "        \n",
    "        # Final backward pass for first module\n",
    "        self.gradInput = self.modules[0].backward(inputs[0], self.gradInput)\n",
    "        return self.gradInput\n",
    "\n",
    "    def zeroGradParameters(self):\n",
    "        for module in self.modules:\n",
    "            module.zeroGradParameters()\n",
    "\n",
    "    def getParameters(self):\n",
    "        \"\"\"\n",
    "        Should gather all parameters in a list.\n",
    "        \"\"\"\n",
    "        return [x.getParameters() for x in self.modules]\n",
    "\n",
    "    def getGradParameters(self):\n",
    "        \"\"\"\n",
    "        Should gather all gradients w.r.t parameters in a list.\n",
    "        \"\"\"\n",
    "        return [x.getGradParameters() for x in self.modules]\n",
    "\n",
    "    def __repr__(self):\n",
    "        string = \"\".join([str(x) + '\\n' for x in self.modules])\n",
    "        return string\n",
    "\n",
    "    def __getitem__(self,x):\n",
    "        return self.modules.__getitem__(x)\n",
    "\n",
    "    def train(self):\n",
    "        \"\"\"\n",
    "        Propagates training parameter through all modules\n",
    "        \"\"\"\n",
    "        self.training = True\n",
    "        for module in self.modules:\n",
    "            module.train()\n",
    "\n",
    "    def evaluate(self):\n",
    "        \"\"\"\n",
    "        Propagates training parameter through all modules\n",
    "        \"\"\"\n",
    "        self.training = False\n",
    "        for module in self.modules:\n",
    "            module.evaluate()"
   ]
  },
  {
   "cell_type": "markdown",
   "metadata": {
    "id": "zfXdYfO4j6ea"
   },
   "source": [
    "# Layers"
   ]
  },
  {
   "cell_type": "markdown",
   "metadata": {
    "id": "ZuwvBkuNj6ea"
   },
   "source": [
    "## 1 (0.2). Linear transform layer\n",
    "Also known as dense layer, fully-connected layer, FC-layer, InnerProductLayer (in caffe), affine transform\n",
    "- input:   **`batch_size x n_feats1`**\n",
    "- output: **`batch_size x n_feats2`**"
   ]
  },
  {
   "cell_type": "code",
   "execution_count": 5,
   "metadata": {},
   "outputs": [],
   "source": [
    "import numpy as np\n",
    "\n",
    "class Linear(Module):\n",
    "    \"\"\"\n",
    "    A module which applies a linear transformation\n",
    "    A common name is fully-connected layer, InnerProductLayer in caffe.\n",
    "\n",
    "    The module should work with 2D input of shape (n_samples, n_feature).\n",
    "    \"\"\"\n",
    "    def __init__(self, n_in, n_out):\n",
    "        self.n_in = n_in\n",
    "        self.n_out = n_out\n",
    "        \n",
    "        # веса\n",
    "        stdv = 1.0 / np.sqrt(n_in)\n",
    "        self.W = np.random.uniform(-stdv, stdv, size=(n_out, n_in))\n",
    "        self.b = np.random.uniform(-stdv, stdv, size=n_out)\n",
    "        \n",
    "        # градиенты\n",
    "        self.gradW = np.zeros_like(self.W)\n",
    "        self.gradb = np.zeros_like(self.b)\n",
    "        \n",
    "        # входы и выходы для слоя\n",
    "        self.input = None\n",
    "        self.output = None\n",
    "\n",
    "    def updateOutput(self, input):\n",
    "        self.input = input\n",
    "        self.output = input @ self.W.T + self.b\n",
    "        return self.output\n",
    "\n",
    "    def updateGradInput(self, input, gradOutput):\n",
    "        self.gradInput = gradOutput @ self.W\n",
    "        return self.gradInput\n",
    "\n",
    "    def accGradParameters(self, input, gradOutput):\n",
    "        self.gradW += gradOutput.T @ input\n",
    "        self.gradb += gradOutput.sum(axis=0)\n",
    "\n",
    "    def zeroGradParameters(self):\n",
    "        self.gradW.fill(0)\n",
    "        self.gradb.fill(0)\n",
    "\n",
    "    def getParameters(self):\n",
    "        return [self.W, self.b]\n",
    "\n",
    "    def getGradParameters(self):\n",
    "        return [self.gradW, self.gradb]\n",
    "\n",
    "    def __repr__(self):\n",
    "        return f\"Linear({self.n_in} -> {self.n_out})\""
   ]
  },
  {
   "cell_type": "markdown",
   "metadata": {
    "id": "tNOnHXZJj6eb"
   },
   "source": [
    "## 2. (0.2) SoftMax\n",
    "- input:   **`batch_size x n_feats`**\n",
    "- output: **`batch_size x n_feats`**\n",
    "\n",
    "$\\text{softmax}(x)_i = \\frac{\\exp x_i} {\\sum_j \\exp x_j}$\n",
    "\n",
    "Recall that $\\text{softmax}(x) == \\text{softmax}(x - \\text{const})$. It makes possible to avoid computing exp() from large argument."
   ]
  },
  {
   "cell_type": "code",
   "execution_count": 7,
   "metadata": {
    "id": "VIValI0hj6eb"
   },
   "outputs": [],
   "source": [
    "class SoftMax(Module):\n",
    "    def __init__(self):\n",
    "         super(SoftMax, self).__init__()\n",
    "\n",
    "    def updateOutput(self, input):\n",
    "        # start with normalization for numerical stability\n",
    "        self.output = np.subtract(input, input.max(axis=1, keepdims=True))\n",
    "        exp = np.exp(self.output)\n",
    "        self.output = exp / exp.sum(axis=1, keepdims=True)\n",
    "        return self.output\n",
    "\n",
    "    def updateGradInput(self, input, gradOutput):\n",
    "        s = self.output\n",
    "        self.gradInput = s * (gradOutput - (s * gradOutput).sum(axis=1, keepdims=True))\n",
    "        return self.gradInput\n",
    "\n",
    "    def __repr__(self):\n",
    "        return \"SoftMax\""
   ]
  },
  {
   "cell_type": "markdown",
   "metadata": {
    "id": "Cy3DJjynj6eb"
   },
   "source": [
    "## 3. (0.2) LogSoftMax\n",
    "- input:   **`batch_size x n_feats`**\n",
    "- output: **`batch_size x n_feats`**\n",
    "\n",
    "$\\text{logsoftmax}(x)_i = \\log\\text{softmax}(x)_i = x_i - \\log {\\sum_j \\exp x_j}$\n",
    "\n",
    "The main goal of this layer is to be used in computation of log-likelihood loss."
   ]
  },
  {
   "cell_type": "code",
   "execution_count": 11,
   "metadata": {
    "id": "Xo7DRdAJj6eb"
   },
   "outputs": [],
   "source": [
    "class LogSoftMax(Module):\n",
    "    def __init__(self):\n",
    "         super(LogSoftMax, self).__init__()\n",
    "\n",
    "    def updateOutput(self, input):\n",
    "        # start with normalization for numerical stability\n",
    "        self.output = np.subtract(input, input.max(axis=1, keepdims=True))\n",
    "        #как будто так устойчивее чем через деление на экспоненту в конце\n",
    "        logsum = np.log(np.exp(self.output).sum(axis=1, keepdims=True))\n",
    "        self.output -= logsum\n",
    "        return self.output\n",
    "\n",
    "    def updateGradInput(self, input, gradOutput):\n",
    "        s = np.exp(self.output)\n",
    "        self.gradInput = gradOutput - s * gradOutput.sum(axis=1, keepdims=True)\n",
    "        return self.gradInput\n",
    "\n",
    "    def __repr__(self):\n",
    "        return \"LogSoftMax\""
   ]
  },
  {
   "cell_type": "markdown",
   "metadata": {
    "id": "QP5QdmmPj6eb"
   },
   "source": [
    "## 4. (0.3) Batch normalization\n",
    "One of the most significant recent ideas that impacted NNs a lot is [**Batch normalization**](http://arxiv.org/abs/1502.03167). The idea is simple, yet effective: the features should be whitened ($mean = 0$, $std = 1$) all the way through NN. This improves the convergence for deep models letting it train them for days but not weeks. **You are** to implement the first part of the layer: features normalization. The second part (`ChannelwiseScaling` layer) is implemented below.\n",
    "\n",
    "- input:   **`batch_size x n_feats`**\n",
    "- output: **`batch_size x n_feats`**\n",
    "\n",
    "The layer should work as follows. While training (`self.training == True`) it transforms input as $$y = \\frac{x - \\mu}  {\\sqrt{\\sigma + \\epsilon}}$$\n",
    "where $\\mu$ and $\\sigma$ - mean and variance of feature values in **batch** and $\\epsilon$ is just a small number for numericall stability. Also during training, layer should maintain exponential moving average values for mean and variance:\n",
    "```\n",
    "    self.moving_mean = self.moving_mean * alpha + batch_mean * (1 - alpha)\n",
    "    self.moving_variance = self.moving_variance * alpha + batch_variance * (1 - alpha)\n",
    "```\n",
    "During testing (`self.training == False`) the layer normalizes input using moving_mean and moving_variance.\n",
    "\n",
    "Note that decomposition of batch normalization on normalization itself and channelwise scaling here is just a common **implementation** choice. In general \"batch normalization\" always assumes normalization + scaling."
   ]
  },
  {
   "cell_type": "code",
   "execution_count": 12,
   "metadata": {
    "id": "fGTTDqVgj6eb"
   },
   "outputs": [],
   "source": [
    "class BatchNormalization(Module):\n",
    "    EPS = 1e-3\n",
    "    def __init__(self, alpha = 0.):\n",
    "        super(BatchNormalization, self).__init__()\n",
    "        self.alpha = alpha\n",
    "        self.moving_mean = None\n",
    "        self.moving_variance = None\n",
    "\n",
    "    def updateOutput(self, input):\n",
    "        if self.training:\n",
    "            batch_mean = input.mean(axis=0)\n",
    "            batch_var = input.var(axis=0)\n",
    "            \n",
    "            if self.moving_mean is None:  # first run\n",
    "                self.moving_mean = batch_mean\n",
    "                self.moving_variance = batch_var\n",
    "            else:\n",
    "                self.moving_mean = self.alpha * self.moving_mean + (1 - self.alpha) * batch_mean\n",
    "                self.moving_variance = self.alpha * self.moving_variance + (1 - self.alpha) * batch_var\n",
    "            \n",
    "            self.output = (input - batch_mean) / np.sqrt(batch_var + self.EPS)\n",
    "        else:\n",
    "            self.output = (input - self.moving_mean) / np.sqrt(self.moving_variance + self.EPS)\n",
    "            \n",
    "        return self.output\n",
    "\n",
    "    def updateGradInput(self, input, gradOutput):\n",
    "        # как будто реально слишком наворочино, но мне проще в одну\n",
    "        if self.training:\n",
    "            batch_var = input.var(axis=0)\n",
    "            n = input.shape[0]\n",
    "            self.gradInput = (n * gradOutput - gradOutput.sum(axis=0) - \n",
    "                           (input - input.mean(axis=0)) * (gradOutput * (input - input.mean(axis=0))).sum(axis=0) / (batch_var + self.EPS)\n",
    "            ) / (n * np.sqrt(batch_var + self.EPS))\n",
    "        else:\n",
    "            self.gradInput = gradOutput / np.sqrt(self.moving_variance + self.EPS)\n",
    "            \n",
    "        return self.gradInput\n",
    "\n",
    "    def __repr__(self):\n",
    "        return \"BatchNormalization\""
   ]
  },
  {
   "cell_type": "code",
   "execution_count": 13,
   "metadata": {
    "id": "8XUS3Lt-j6eb"
   },
   "outputs": [],
   "source": [
    "class ChannelwiseScaling(Module):\n",
    "    \"\"\"\n",
    "    Implements linear transform of input y = γ * x + β\n",
    "    where γ, β - learnable vectors of length x.shape[-1]\n",
    "    \"\"\"\n",
    "    def __init__(self, n_out):\n",
    "        super(ChannelwiseScaling, self).__init__()\n",
    "\n",
    "        stdv = 1./np.sqrt(n_out)\n",
    "        self.gamma = np.random.uniform(-stdv, stdv, size=n_out)\n",
    "        self.beta = np.random.uniform(-stdv, stdv, size=n_out)\n",
    "\n",
    "        self.gradGamma = np.zeros_like(self.gamma)\n",
    "        self.gradBeta = np.zeros_like(self.beta)\n",
    "\n",
    "    def updateOutput(self, input):\n",
    "        self.output = input * self.gamma + self.beta\n",
    "        return self.output\n",
    "\n",
    "    def updateGradInput(self, input, gradOutput):\n",
    "        self.gradInput = gradOutput * self.gamma\n",
    "        return self.gradInput\n",
    "\n",
    "    def accGradParameters(self, input, gradOutput):\n",
    "        self.gradBeta = np.sum(gradOutput, axis=0)\n",
    "        self.gradGamma = np.sum(gradOutput * input, axis=0)\n",
    "\n",
    "    def zeroGradParameters(self):\n",
    "        self.gradGamma.fill(0)\n",
    "        self.gradBeta.fill(0)\n",
    "\n",
    "    def getParameters(self):\n",
    "        return [self.gamma, self.beta]\n",
    "\n",
    "    def getGradParameters(self):\n",
    "        return [self.gradGamma, self.gradBeta]\n",
    "\n",
    "    def __repr__(self):\n",
    "        return \"ChannelwiseScaling\""
   ]
  },
  {
   "cell_type": "markdown",
   "metadata": {
    "id": "vA5zjM3jj6eb"
   },
   "source": [
    "Practical notes. If BatchNormalization is placed after a linear transformation layer (including dense layer, convolutions, channelwise scaling) that implements function like `y = weight * x + bias`, than bias adding become useless and could be omitted since its effect will be discarded while batch mean subtraction. If BatchNormalization (followed by `ChannelwiseScaling`) is placed before a layer that propagates scale (including ReLU, LeakyReLU) followed by any linear transformation layer than parameter `gamma` in `ChannelwiseScaling` could be freezed since it could be absorbed into the linear transformation layer."
   ]
  },
  {
   "cell_type": "markdown",
   "metadata": {
    "id": "Gackeo1cj6eb"
   },
   "source": [
    "## 5. (0.3) Dropout\n",
    "Implement [**dropout**](https://www.cs.toronto.edu/~hinton/absps/JMLRdropout.pdf). The idea and implementation is really simple: just multimply the input by $Bernoulli(p)$ mask. Here $p$ is probability of an element to be zeroed.\n",
    "\n",
    "This has proven to be an effective technique for regularization and preventing the co-adaptation of neurons.\n",
    "\n",
    "While training (`self.training == True`) it should sample a mask on each iteration (for every batch), zero out elements and multiply elements by $1 / (1 - p)$. The latter is needed for keeping mean values of features close to mean values which will be in test mode. When testing this module should implement identity transform i.e. `self.output = input`.\n",
    "\n",
    "- input:   **`batch_size x n_feats`**\n",
    "- output: **`batch_size x n_feats`**"
   ]
  },
  {
   "cell_type": "code",
   "execution_count": 15,
   "metadata": {
    "id": "NmLQV3jXj6eb"
   },
   "outputs": [],
   "source": [
    "class Dropout(Module):\n",
    "    def __init__(self, p=0.5):\n",
    "        super(Dropout, self).__init__()\n",
    "        self.p = p\n",
    "        self.mask = None\n",
    "\n",
    "    def updateOutput(self, input):\n",
    "        if self.training:\n",
    "            self.mask = (np.random.rand(*input.shape) > self.p) / (1 - self.p)\n",
    "            self.output = input * self.mask\n",
    "        else:\n",
    "            self.output = input\n",
    "        return self.output\n",
    "\n",
    "    def updateGradInput(self, input, gradOutput):\n",
    "        self.gradInput = gradOutput * self.mask if self.training else gradOutput\n",
    "        return self.gradInput\n",
    "\n",
    "    def __repr__(self):\n",
    "        return f\"Dropout(p={self.p})\""
   ]
  },
  {
   "cell_type": "markdown",
   "metadata": {
    "id": "-WHGIqJFlhz2"
   },
   "source": [
    "## 6. (2.0) Conv2d\n",
    "Implement [**Conv2d**](https://pytorch.org/docs/stable/generated/torch.nn.Conv2d.html). Use only this list of parameters: (in_channels, out_channels, kernel_size, stride, padding, bias, padding_mode) and fix dilation=1 and groups=1."
   ]
  },
  {
   "cell_type": "code",
   "execution_count": 16,
   "metadata": {
    "id": "c1RjNoEXlOHP"
   },
   "outputs": [],
   "source": [
    "class Conv2d(Module):\n",
    "    def __init__(self, in_channels, out_channels, kernel_size,\n",
    "                 stride=1, padding=0, bias=True, padding_mode='zeros'):\n",
    "        super(Conv2d, self).__init__()\n",
    "        self.in_channels = in_channels\n",
    "        self.out_channels = out_channels\n",
    "        self.kernel_size = (kernel_size, kernel_size) if isinstance(kernel_size, int) else kernel_size\n",
    "        self.stride = (stride, stride) if isinstance(stride, int) else stride\n",
    "        self.padding = (padding, padding) if isinstance(padding, int) else padding\n",
    "        self.bias = bias\n",
    "        self.padding_mode = padding_mode\n",
    "\n",
    "        scale = 1 / np.sqrt(in_channels * self.kernel_size[0] * self.kernel_size[1])\n",
    "        self.weight = np.random.uniform(-scale, scale, \n",
    "                                     (out_channels, in_channels, *self.kernel_size))\n",
    "        self.gradWeight = np.zeros_like(self.weight)\n",
    "        self.bias = np.random.uniform(-scale, scale, out_channels) if bias else None\n",
    "        self.gradBias = np.zeros_like(self.bias) if bias else None\n",
    "\n",
    "    def updateOutput(self, input):\n",
    "        input_padded = np.pad(input, \n",
    "                            [(0,0), (0,0), \n",
    "                             (self.padding[0], self.padding[0]), \n",
    "                             (self.padding[1], self.padding[1])], \n",
    "                            'constant') if any(self.padding) else input\n",
    "        \n",
    "        batch_size, _, in_h, in_w = input_padded.shape\n",
    "        out_h = (in_h - self.kernel_size[0]) // self.stride[0] + 1\n",
    "        out_w = (in_w - self.kernel_size[1]) // self.stride[1] + 1\n",
    "        \n",
    "        self.output = np.zeros((batch_size, self.out_channels, out_h, out_w))\n",
    "        \n",
    "        for i in range(out_h):\n",
    "            for j in range(out_w):\n",
    "                h_start = i * self.stride[0]\n",
    "                w_start = j * self.stride[1]\n",
    "                window = input_padded[:, :, \n",
    "                                   h_start:h_start+self.kernel_size[0], \n",
    "                                   w_start:w_start+self.kernel_size[1]]\n",
    "                self.output[:, :, i, j] = np.tensordot(window, self.weight, \n",
    "                                                     axes=([1,2,3], [1,2,3]))\n",
    "        \n",
    "        self.output += self.bias[None, :, None, None] if self.bias is not None else 0\n",
    "        return self.output\n",
    "\n",
    "    def updateGradInput(self, input, gradOutput):\n",
    "        input_padded = np.pad(input,\n",
    "                            [(0,0), (0,0),\n",
    "                             (self.padding[0], self.padding[0]),\n",
    "                             (self.padding[1], self.padding[1])],\n",
    "                            'constant') if any(self.padding) else input\n",
    "        \n",
    "        batch_size, _, in_h, in_w = input_padded.shape\n",
    "        self.gradInput = np.zeros_like(input_padded)\n",
    "        \n",
    "        for i in range(gradOutput.shape[2]):\n",
    "            for j in range(gradOutput.shape[3]):\n",
    "                h_start = i * self.stride[0]\n",
    "                w_start = j * self.stride[1]\n",
    "                self.gradInput[:, :,\n",
    "                             h_start:h_start+self.kernel_size[0],\n",
    "                             w_start:w_start+self.kernel_size[1]] += \\\n",
    "                    np.tensordot(gradOutput[:, :, i, j], self.weight, axes=([1],[0]))\n",
    "        \n",
    "        self.gradInput = self.gradInput[:, :,\n",
    "                                      self.padding[0]:in_h-self.padding[0],\n",
    "                                      self.padding[1]:in_w-self.padding[1]] if any(self.padding) else self.gradInput\n",
    "        return self.gradInput\n",
    "\n",
    "    def __repr__(self):\n",
    "        return f\"Conv2d(in={self.in_channels}, out={self.out_channels}, kernel={self.kernel_size}, stride={self.stride}, pad={self.padding})\""
   ]
  },
  {
   "cell_type": "markdown",
   "metadata": {
    "id": "updUVZE9qixP"
   },
   "source": [
    "## 7. (0.5) Implement [**MaxPool2d**](https://pytorch.org/docs/stable/generated/torch.nn.MaxPool2d.html) and [**AvgPool2d**](https://pytorch.org/docs/stable/generated/torch.nn.AvgPool2d.html). \n",
    "Use only parameters like kernel_size, stride, padding (negative infinity for maxpool and zero for avgpool) and other parameters fixed as in framework."
   ]
  },
  {
   "cell_type": "code",
   "execution_count": 17,
   "metadata": {
    "id": "Qys58EzkqhLj"
   },
   "outputs": [],
   "source": [
    "class MaxPool2d(Module):\n",
    "    def __init__(self, kernel_size, stride, padding):\n",
    "        super(MaxPool2d, self).__init__()\n",
    "        self.kernel_size = kernel_size if isinstance(kernel_size, tuple) else (kernel_size, kernel_size)\n",
    "        self.stride = stride if isinstance(stride, tuple) else (stride, stride)\n",
    "        self.padding = padding if isinstance(padding, tuple) else (padding, padding)\n",
    "\n",
    "    def updateOutput(self, input):\n",
    "        # Добавляем padding с -inf для maxpool\n",
    "        pad_h, pad_w = self.padding\n",
    "        if pad_h > 0 or pad_w > 0:\n",
    "            input_padded = np.pad(input, \n",
    "                                [(0,0), (0,0), \n",
    "                                 (pad_h, pad_h), \n",
    "                                 (pad_w, pad_w)], \n",
    "                                mode='constant', \n",
    "                                constant_values=-np.inf)\n",
    "        else:\n",
    "            input_padded = input\n",
    "\n",
    "        batch, channels, in_h, in_w = input_padded.shape\n",
    "        k_h, k_w = self.kernel_size\n",
    "        s_h, s_w = self.stride\n",
    "        \n",
    "        # Вычисляем размеры выхода\n",
    "        out_h = (in_h - k_h) // s_h + 1\n",
    "        out_w = (in_w - k_w) // s_w + 1\n",
    "        \n",
    "        self.output = np.zeros((batch, channels, out_h, out_w))\n",
    "        \n",
    "        # Применяем max pooling\n",
    "        for i in range(out_h):\n",
    "            for j in range(out_w):\n",
    "                h_start = i * s_h\n",
    "                w_start = j * s_w\n",
    "                window = input_padded[:, :, \n",
    "                                   h_start:h_start+k_h, \n",
    "                                   w_start:w_start+k_w]\n",
    "                self.output[:, :, i, j] = np.max(window, axis=(2,3))\n",
    "                \n",
    "        return self.output\n",
    "\n",
    "    def updateGradInput(self, input, gradOutput):\n",
    "        pad_h, pad_w = self.padding\n",
    "        if pad_h > 0 or pad_w > 0:\n",
    "            input_padded = np.pad(input,\n",
    "                                [(0,0), (0,0),\n",
    "                                 (pad_h, pad_h),\n",
    "                                 (pad_w, pad_w)],\n",
    "                                mode='constant',\n",
    "                                constant_values=-np.inf)\n",
    "        else:\n",
    "            input_padded = input\n",
    "            \n",
    "        batch, channels, in_h, in_w = input_padded.shape\n",
    "        k_h, k_w = self.kernel_size\n",
    "        s_h, s_w = self.stride\n",
    "        out_h, out_w = gradOutput.shape[2], gradOutput.shape[3]\n",
    "        \n",
    "        self.gradInput = np.zeros_like(input_padded)\n",
    "        \n",
    "        # Распространяем градиент только на максимальные элементы\n",
    "        for i in range(out_h):\n",
    "            for j in range(out_w):\n",
    "                h_start = i * s_h\n",
    "                w_start = j * s_w\n",
    "                window = input_padded[:, :, \n",
    "                                    h_start:h_start+k_h, \n",
    "                                    w_start:w_start+k_w]\n",
    "                max_mask = (window == np.max(window, axis=(2,3), keepdims=True))\n",
    "                self.gradInput[:, :, \n",
    "                             h_start:h_start+k_h, \n",
    "                             w_start:w_start+k_w] += \\\n",
    "                    gradOutput[:, :, i, j][:, :, None, None] * max_mask\n",
    "        \n",
    "        # Убираем padding если был\n",
    "        if pad_h > 0 or pad_w > 0:\n",
    "            self.gradInput = self.gradInput[:, :, \n",
    "                                          pad_h:-pad_h, \n",
    "                                          pad_w:-pad_w]\n",
    "            \n",
    "        return self.gradInput\n",
    "\n",
    "    def __repr__(self):\n",
    "        return f\"MaxPool2d(kernel={self.kernel_size}, stride={self.stride}, pad={self.padding})\"\n",
    "\n",
    "\n",
    "class AvgPool2d(Module):\n",
    "    def __init__(self, kernel_size, stride, padding):\n",
    "        super(AvgPool2d, self).__init__()\n",
    "        self.kernel_size = kernel_size if isinstance(kernel_size, tuple) else (kernel_size, kernel_size)\n",
    "        self.stride = stride if isinstance(stride, tuple) else (stride, stride)\n",
    "        self.padding = padding if isinstance(padding, tuple) else (padding, padding)\n",
    "\n",
    "    def updateOutput(self, input):\n",
    "        # Добавляем padding с 0 для avgpool\n",
    "        pad_h, pad_w = self.padding\n",
    "        if pad_h > 0 or pad_w > 0:\n",
    "            input_padded = np.pad(input, \n",
    "                                [(0,0), (0,0), \n",
    "                                 (pad_h, pad_h), \n",
    "                                 (pad_w, pad_w)], \n",
    "                                mode='constant')\n",
    "        else:\n",
    "            input_padded = input\n",
    "\n",
    "        batch, channels, in_h, in_w = input_padded.shape\n",
    "        k_h, k_w = self.kernel_size\n",
    "        s_h, s_w = self.stride\n",
    "        \n",
    "        # Вычисляем размеры выхода\n",
    "        out_h = (in_h - k_h) // s_h + 1\n",
    "        out_w = (in_w - k_w) // s_w + 1\n",
    "        \n",
    "        self.output = np.zeros((batch, channels, out_h, out_w))\n",
    "        \n",
    "        # Применяем average pooling\n",
    "        for i in range(out_h):\n",
    "            for j in range(out_w):\n",
    "                h_start = i * s_h\n",
    "                w_start = j * s_w\n",
    "                window = input_padded[:, :, \n",
    "                                   h_start:h_start+k_h, \n",
    "                                   w_start:w_start+k_w]\n",
    "                self.output[:, :, i, j] = np.mean(window, axis=(2,3))\n",
    "                \n",
    "        return self.output\n",
    "\n",
    "    def updateGradInput(self, input, gradOutput):\n",
    "        pad_h, pad_w = self.padding\n",
    "        if pad_h > 0 or pad_w > 0:\n",
    "            input_padded = np.pad(input,\n",
    "                                [(0,0), (0,0),\n",
    "                                 (pad_h, pad_h),\n",
    "                                 (pad_w, pad_w)],\n",
    "                                mode='constant')\n",
    "        else:\n",
    "            input_padded = input\n",
    "            \n",
    "        batch, channels, in_h, in_w = input_padded.shape\n",
    "        k_h, k_w = self.kernel_size\n",
    "        s_h, s_w = self.stride\n",
    "        out_h, out_w = gradOutput.shape[2], gradOutput.shape[3]\n",
    "        \n",
    "        self.gradInput = np.zeros_like(input_padded)\n",
    "        \n",
    "        # Распределяем градиент равномерно по всем элементам окна\n",
    "        norm_factor = 1.0 / (k_h * k_w)\n",
    "        for i in range(out_h):\n",
    "            for j in range(out_w):\n",
    "                h_start = i * s_h\n",
    "                w_start = j * s_w\n",
    "                self.gradInput[:, :, \n",
    "                             h_start:h_start+k_h, \n",
    "                             w_start:w_start+k_w] += \\\n",
    "                    gradOutput[:, :, i, j][:, :, None, None] * norm_factor\n",
    "        \n",
    "        # Убираем padding если был\n",
    "        if pad_h > 0 or pad_w > 0:\n",
    "            self.gradInput = self.gradInput[:, :, \n",
    "                                          pad_h:-pad_h, \n",
    "                                          pad_w:-pad_w]\n",
    "            \n",
    "        return self.gradInput\n",
    "\n",
    "    def __repr__(self):\n",
    "        return f\"AvgPool2d(kernel={self.kernel_size}, stride={self.stride}, pad={self.padding})\""
   ]
  },
  {
   "cell_type": "markdown",
   "metadata": {
    "id": "KTN5R3CwrukV"
   },
   "source": [
    "## 8. (0.3) Implement **GlobalMaxPool2d** and **GlobalAvgPool2d**. \n",
    "They do not have testing and parameters are up to you but they must aggregate information within channels. Write test functions for these layers on your own."
   ]
  },
  {
   "cell_type": "code",
   "execution_count": 19,
   "metadata": {},
   "outputs": [
    {
     "name": "stdout",
     "output_type": "stream",
     "text": [
      "GlobalMaxPool output shape: (2, 3)\n",
      "GlobalMaxPool grad_input shape: (2, 3, 4, 4)\n",
      "GlobalAvgPool output shape: (2, 3)\n",
      "GlobalAvgPool grad_input shape: (2, 3, 4, 4)\n",
      "Ок\n"
     ]
    }
   ],
   "source": [
    "class GlobalMaxPool2d(Module):\n",
    "    def __init__(self):\n",
    "        super(GlobalMaxPool2d, self).__init__()\n",
    "    \n",
    "    def updateOutput(self, input):\n",
    "        # Схлопываем пространственные измерения (H,W), оставляя каналы\n",
    "        self.output = np.max(input, axis=(2, 3))\n",
    "        return self.output\n",
    "    \n",
    "    def updateGradInput(self, input, gradOutput):\n",
    "        batch, channels, h, w = input.shape\n",
    "        self.gradInput = np.zeros_like(input)\n",
    "        \n",
    "        # Находим позиции максимальных элементов\n",
    "        max_indices = np.argmax(input.reshape(batch, channels, -1), axis=2)\n",
    "        \n",
    "        # Распределяем градиенты только на максимальные элементы\n",
    "        for b in range(batch):\n",
    "            for c in range(channels):\n",
    "                pos = np.unravel_index(max_indices[b,c], (h,w))\n",
    "                self.gradInput[b, c, pos[0], pos[1]] = gradOutput[b,c]\n",
    "        \n",
    "        return self.gradInput\n",
    "    \n",
    "    def __repr__(self):\n",
    "        return \"GlobalMaxPool2d()\"\n",
    "\n",
    "\n",
    "class GlobalAvgPool2d(Module):\n",
    "    def __init__(self):\n",
    "        super(GlobalAvgPool2d, self).__init__()\n",
    "    \n",
    "    def updateOutput(self, input):\n",
    "        # Усредняем по пространственным измерениям (H,W)\n",
    "        self.output = np.mean(input, axis=(2, 3))\n",
    "        return self.output\n",
    "    \n",
    "    def updateGradInput(self, input, gradOutput):\n",
    "        batch, channels, h, w = input.shape\n",
    "        norm_factor = 1.0 / (h * w)\n",
    "        \n",
    "        # Равномерно распределяем градиент по всем элементам\n",
    "        self.gradInput = np.ones_like(input) * gradOutput[:, :, None, None] * norm_factor\n",
    "        return self.gradInput\n",
    "    \n",
    "    def __repr__(self):\n",
    "        return \"GlobalAvgPool2d()\"\n",
    "\n",
    "\n",
    "# Тесты\n",
    "def test_global_pools():\n",
    "    np.random.seed(42)\n",
    "    \n",
    "    # Тестовый тензор (2 примера, 3 канала, 4x4)\n",
    "    x = np.random.rand(2, 3, 4, 4)\n",
    "    \n",
    "    # Тестируем GlobalMaxPool2d\n",
    "    max_pool = GlobalMaxPool2d()\n",
    "    out_max = max_pool.updateOutput(x)\n",
    "    print(\"GlobalMaxPool output shape:\", out_max.shape)  # Должно быть (2, 3)\n",
    "    \n",
    "    # Проверяем правильность вычисления максимумов\n",
    "    for b in range(2):\n",
    "        for c in range(3):\n",
    "            assert np.allclose(out_max[b,c], np.max(x[b,c]))\n",
    "    \n",
    "    # Тестируем градиенты\n",
    "    grad_out = np.ones_like(out_max)\n",
    "    grad_in = max_pool.updateGradInput(x, grad_out)\n",
    "    print(\"GlobalMaxPool grad_input shape:\", grad_in.shape)  # Должно совпадать с входом (2,3,4,4)\n",
    "    \n",
    "    # Тестируем GlobalAvgPool2d\n",
    "    avg_pool = GlobalAvgPool2d()\n",
    "    out_avg = avg_pool.updateOutput(x)\n",
    "    print(\"GlobalAvgPool output shape:\", out_avg.shape)  # Должно быть (2, 3)\n",
    "    \n",
    "    # Проверяем правильность вычисления средних\n",
    "    for b in range(2):\n",
    "        for c in range(3):\n",
    "            assert np.allclose(out_avg[b,c], np.mean(x[b,c]))\n",
    "    \n",
    "    # Тестируем градиенты\n",
    "    grad_in_avg = avg_pool.updateGradInput(x, grad_out)\n",
    "    print(\"GlobalAvgPool grad_input shape:\", grad_in_avg.shape)  # Должно совпадать с входом\n",
    "    \n",
    "    print(\"Ок\")\n",
    "\n",
    "# Запускаем тесты\n",
    "test_global_pools()"
   ]
  },
  {
   "cell_type": "markdown",
   "metadata": {
    "id": "cYeBQDBhtViy"
   },
   "source": [
    "## 9. (0.2) Implement \n",
    "[**Flatten**](https://pytorch.org/docs/stable/generated/torch.flatten.html)"
   ]
  },
  {
   "cell_type": "code",
   "execution_count": 21,
   "metadata": {
    "id": "SimPEMOFqhTQ"
   },
   "outputs": [],
   "source": [
    "class Flatten(Module):\n",
    "    def __init__(self, start_dim=0, end_dim=-1):\n",
    "        super(Flatten, self).__init__()\n",
    "        self.start_dim = start_dim\n",
    "        self.end_dim = end_dim\n",
    "        self.input_shape = None  # Для сохранения формы входа\n",
    "\n",
    "    def updateOutput(self, input):\n",
    "        # Сохраняем исходную форму\n",
    "        self.input_shape = input.shape\n",
    "        \n",
    "        # Обрабатываем отрицательные индексы\n",
    "        end_dim = self.end_dim if self.end_dim >= 0 else len(self.input_shape) + self.end_dim\n",
    "        \n",
    "        # Вычисляем новую форму\n",
    "        new_shape = (\n",
    "            *self.input_shape[:self.start_dim],\n",
    "            -1,  # Схлопываем все размерности между start_dim и end_dim\n",
    "            *self.input_shape[end_dim+1:]\n",
    "        )\n",
    "        \n",
    "        self.output = input.reshape(new_shape)\n",
    "        return self.output\n",
    "\n",
    "    def updateGradInput(self, input, gradOutput):\n",
    "        # Восстанавливаем исходную форму\n",
    "        self.gradInput = gradOutput.reshape(self.input_shape)\n",
    "        return self.gradInput\n",
    "\n",
    "    def __repr__(self):\n",
    "        return f\"Flatten(start_dim={self.start_dim}, end_dim={self.end_dim})\""
   ]
  },
  {
   "cell_type": "markdown",
   "metadata": {
    "id": "o36vPHSSj6eb"
   },
   "source": [
    "# Activation functions"
   ]
  },
  {
   "cell_type": "markdown",
   "metadata": {
    "id": "l_pryRQIj6ec"
   },
   "source": [
    "Here's the complete example for the **Rectified Linear Unit** non-linearity (aka **ReLU**):"
   ]
  },
  {
   "cell_type": "code",
   "execution_count": 22,
   "metadata": {
    "id": "sgm8bXjKj6ec"
   },
   "outputs": [],
   "source": [
    "class ReLU(Module):\n",
    "    def __init__(self):\n",
    "         super(ReLU, self).__init__()\n",
    "\n",
    "    def updateOutput(self, input):\n",
    "        self.output = np.maximum(input, 0)\n",
    "        return self.output\n",
    "\n",
    "    def updateGradInput(self, input, gradOutput):\n",
    "        self.gradInput = np.multiply(gradOutput , input > 0)\n",
    "        return self.gradInput\n",
    "\n",
    "    def __repr__(self):\n",
    "        return \"ReLU\""
   ]
  },
  {
   "cell_type": "markdown",
   "metadata": {
    "id": "yB0UHGagj6ec"
   },
   "source": [
    "## 10. (0.1) Leaky ReLU\n",
    "Implement [**Leaky Rectified Linear Unit**](http://en.wikipedia.org/wiki%2FRectifier_%28neural_networks%29%23Leaky_ReLUs). Expriment with slope."
   ]
  },
  {
   "cell_type": "code",
   "execution_count": 23,
   "metadata": {
    "id": "agwfkwO0j6ec"
   },
   "outputs": [],
   "source": [
    "class LeakyReLU(Module):\n",
    "    def __init__(self, slope=0.03):\n",
    "        super(LeakyReLU, self).__init__()\n",
    "        self.slope = slope\n",
    "\n",
    "    def updateOutput(self, input):\n",
    "        self.output = np.where(input > 0, input, input * self.slope)\n",
    "        return self.output\n",
    "\n",
    "    def updateGradInput(self, input, gradOutput):\n",
    "        self.gradInput = gradOutput * np.where(input > 0, 1, self.slope)\n",
    "        return self.gradInput\n",
    "\n",
    "    def __repr__(self):\n",
    "        return f\"LeakyReLU(slope={self.slope})\""
   ]
  },
  {
   "cell_type": "markdown",
   "metadata": {
    "id": "t-STyecvj6ec"
   },
   "source": [
    "## 11. (0.1) ELU\n",
    "Implement [**Exponential Linear Units**](http://arxiv.org/abs/1511.07289) activations."
   ]
  },
  {
   "cell_type": "code",
   "execution_count": 24,
   "metadata": {
    "id": "jJSzEu1mj6ec"
   },
   "outputs": [],
   "source": [
    "class ELU(Module):\n",
    "    def __init__(self, alpha=1.0):\n",
    "        super(ELU, self).__init__()\n",
    "        self.alpha = alpha\n",
    "\n",
    "    def updateOutput(self, input):\n",
    "        self.output = np.where(input > 0, input, self.alpha * (np.exp(input) - 1))\n",
    "        return self.output\n",
    "\n",
    "    def updateGradInput(self, input, gradOutput):\n",
    "        self.gradInput = gradOutput * np.where(input > 0, 1, self.output + self.alpha)\n",
    "        return self.gradInput\n",
    "\n",
    "    def __repr__(self):\n",
    "        return f\"ELU(alpha={self.alpha})\""
   ]
  },
  {
   "cell_type": "markdown",
   "metadata": {
    "id": "Gn3C7KTqj6ec"
   },
   "source": [
    "## 12. (0.1) SoftPlus\n",
    "Implement [**SoftPlus**](https://en.wikipedia.org/wiki%2FRectifier_%28neural_networks%29) activations. Look, how they look a lot like ReLU."
   ]
  },
  {
   "cell_type": "code",
   "execution_count": null,
   "metadata": {
    "collapsed": true,
    "id": "xcDPMssrj6ec",
    "jupyter": {
     "outputs_hidden": true
    }
   },
   "outputs": [],
   "source": [
    "class SoftPlus(Module):\n",
    "    def __init__(self):\n",
    "        super(SoftPlus, self).__init__()\n",
    "\n",
    "    def updateOutput(self, input):\n",
    "        # Your code goes here. ################################################\n",
    "        return  self.output\n",
    "\n",
    "    def updateGradInput(self, input, gradOutput):\n",
    "        # Your code goes here. ################################################\n",
    "        return self.gradInput\n",
    "\n",
    "    def __repr__(self):\n",
    "        return \"SoftPlus\""
   ]
  },
  {
   "cell_type": "markdown",
   "metadata": {
    "id": "kw3PeZjOuo0e"
   },
   "source": [
    "## 13. (0.2) Gelu\n",
    "Implement [**Gelu**](https://pytorch.org/docs/stable/generated/torch.nn.GELU.html) activations."
   ]
  },
  {
   "cell_type": "code",
   "execution_count": 25,
   "metadata": {
    "id": "SdieE0Dtuo8j"
   },
   "outputs": [],
   "source": [
    "class SoftPlus(Module):\n",
    "    def __init__(self):\n",
    "        super(SoftPlus, self).__init__()\n",
    "\n",
    "    def updateOutput(self, input):\n",
    "        self.output = np.log1p(np.exp(input))  # Более устойчиво \n",
    "        return self.output\n",
    "\n",
    "    def updateGradInput(self, input, gradOutput):\n",
    "        self.gradInput = gradOutput * (1 - 1/(1 + np.exp(input)))  # Сигмоида\n",
    "        return self.gradInput\n",
    "\n",
    "    def __repr__(self):\n",
    "        return \"SoftPlus\""
   ]
  },
  {
   "cell_type": "markdown",
   "metadata": {
    "id": "55p7UvPAj6ec"
   },
   "source": [
    "# Criterions"
   ]
  },
  {
   "cell_type": "markdown",
   "metadata": {
    "id": "5NFaxZaqj6ec"
   },
   "source": [
    "Criterions are used to score the models answers."
   ]
  },
  {
   "cell_type": "code",
   "execution_count": 26,
   "metadata": {
    "id": "XGu45A8qj6ec"
   },
   "outputs": [],
   "source": [
    "class Criterion(object):\n",
    "    def __init__(self):\n",
    "        self.output = None\n",
    "        self.gradInput = None\n",
    "\n",
    "    def forward(self, input, target):\n",
    "        return self.updateOutput(input, target)\n",
    "\n",
    "    def backward(self, input, target):\n",
    "        return self.updateGradInput(input, target)\n",
    "\n",
    "    def updateOutput(self, input, target):\n",
    "        self.output = None  # loss\n",
    "        return self.output\n",
    "\n",
    "    def updateGradInput(self, input, target):\n",
    "        self.gradInput = None \n",
    "        return self.gradInput\n",
    "\n",
    "    def __repr__(self):\n",
    "        return \"Criterion\""
   ]
  },
  {
   "cell_type": "markdown",
   "metadata": {
    "id": "WuU26xkpj6ec"
   },
   "source": [
    "The **MSECriterion**, which is basic L2 norm usually used for regression, is implemented here for you.\n",
    "- input:   **`batch_size x n_feats`**\n",
    "- target: **`batch_size x n_feats`**\n",
    "- output: **scalar**"
   ]
  },
  {
   "cell_type": "code",
   "execution_count": 27,
   "metadata": {
    "id": "-i3VNuHhj6ec"
   },
   "outputs": [],
   "source": [
    "class MSECriterion(Criterion):\n",
    "    def __init__(self):\n",
    "        super(MSECriterion, self).__init__()\n",
    "\n",
    "    def updateOutput(self, input, target):\n",
    "        self.output = np.mean((input - target)**2)  # mSE\n",
    "        return self.output\n",
    "\n",
    "    def updateGradInput(self, input, target):\n",
    "        # Your code goes here. ################################################\n",
    "        self.gradInput = 2 * (input - target) / input.shape[0]  # Градиент MSE\n",
    "        return self.gradInput\n",
    "\n",
    "    def __repr__(self):\n",
    "        return \"MSECriterion\""
   ]
  },
  {
   "cell_type": "markdown",
   "metadata": {
    "id": "x8LKLWNVj6ec"
   },
   "source": [
    "## 14. (0.2) Negative LogLikelihood criterion (numerically unstable)\n",
    "You task is to implement the **ClassNLLCriterion**. It should implement [multiclass log loss](http://scikit-learn.org/stable/modules/model_evaluation.html#log-loss). Nevertheless there is a sum over `y` (target) in that formula,\n",
    "remember that targets are one-hot encoded. This fact simplifies the computations a lot. Note, that criterions are the only places, where you divide by batch size. Also there is a small hack with adding small number to probabilities to avoid computing log(0).\n",
    "- input:   **`batch_size x n_feats`** - probabilities\n",
    "- target: **`batch_size x n_feats`** - one-hot representation of ground truth\n",
    "- output: **scalar**\n",
    "\n"
   ]
  },
  {
   "cell_type": "code",
   "execution_count": 28,
   "metadata": {
    "id": "die7KvW6j6ec"
   },
   "outputs": [],
   "source": [
    "class ClassNLLCriterionUnstable(Criterion):\n",
    "    EPS = 1e-15\n",
    "    def __init__(self):\n",
    "        super(ClassNLLCriterionUnstable, self).__init__()\n",
    "\n",
    "    def updateOutput(self, input, target):\n",
    "        input_clamp = np.clip(input, self.EPS, 1 - self.EPS)\n",
    "        \n",
    "        self.output = -np.sum(target * np.log(input_clamp)) / input.shape[0]\n",
    "        return self.output\n",
    "\n",
    "    def updateGradInput(self, input, target):\n",
    "        input_clamp = np.clip(input, self.EPS, 1 - self.EPS)\n",
    "        \n",
    "        self.gradInput = -target / (input_clamp * input.shape[0])\n",
    "        return self.gradInput\n",
    "\n",
    "    def __repr__(self):\n",
    "        return \"ClassNLLCriterionUnstable\""
   ]
  },
  {
   "cell_type": "markdown",
   "metadata": {
    "id": "uHr_JbU5j6ec"
   },
   "source": [
    "## 15. (0.3) Negative LogLikelihood criterion (numerically stable)\n",
    "- input:   **`batch_size x n_feats`** - log probabilities\n",
    "- target: **`batch_size x n_feats`** - one-hot representation of ground truth\n",
    "- output: **scalar**\n",
    "\n",
    "Task is similar to the previous one, but now the criterion input is the output of log-softmax layer. This decomposition allows us to avoid problems with computation of forward and backward of log()."
   ]
  },
  {
   "cell_type": "code",
   "execution_count": 29,
   "metadata": {
    "id": "v7N8bVP9j6ec"
   },
   "outputs": [],
   "source": [
    "class ClassNLLCriterion(Criterion):\n",
    "    def __init__(self):\n",
    "        super(ClassNLLCriterion, self).__init__()\n",
    "\n",
    "    def updateOutput(self, input, target):\n",
    "        self.output = -np.mean(np.sum(target * input, axis=1))\n",
    "        return self.output\n",
    "\n",
    "    def updateGradInput(self, input, target):\n",
    "        self.gradInput = -target / input.shape[0]\n",
    "        return self.gradInput\n",
    "\n",
    "    def __repr__(self):\n",
    "        return \"ClassNLLCriterion\""
   ]
  },
  {
   "cell_type": "code",
   "execution_count": null,
   "metadata": {
    "collapsed": true,
    "id": "E-ZnhKxaj6ed",
    "jupyter": {
     "outputs_hidden": true
    }
   },
   "outputs": [],
   "source": []
  },
  {
   "cell_type": "markdown",
   "metadata": {
    "id": "TC2Bf1PP2Ios"
   },
   "source": [
    "1-я часть задания: реализация слоев, лосей и функций активации - 5 баллов. \\\\\n",
    "2-я часть задания: реализация моделей на своих классах. Что должно быть:\n",
    "  1. Выберите оптимизатор и реализуйте его, чтоб он работал с вами классами. - 1 балл.\n",
    "  2. Модель для задачи мультирегрессии на выбраных вами данных. Использовать FCNN, dropout, batchnorm, MSE. Пробуйте различные фукнции активации. Для первой модели попробуйте большую, среднюю и маленькую модель. - 1 балл.\n",
    "  3. Модель для задачи мультиклассификации на MNIST. Использовать свёртки, макспулы, флэттэны, софтмаксы - 1 балла.\n",
    "  4. Автоэнкодер для выбранных вами данных. Должен быть на свёртках и полносвязных слоях, дропаутах, батчнормах и тд. - 2 балла. \\\\\n",
    "\n",
    "Дополнительно в оценке каждой модели будет учитываться:\n",
    "1. Наличие правильно выбранной метрики и лосс функции.\n",
    "2. Отрисовка графиков лосей и метрик на трейне-валидации. Проверка качества модели на тесте.\n",
    "3. Наличие шедулера для lr.\n",
    "4. Наличие вормапа.\n",
    "5. Наличие механизма ранней остановки и сохранение лучшей модели.\n",
    "6. Свитч лося (метрики) и оптимайзера."
   ]
  },
  {
   "cell_type": "code",
   "execution_count": null,
   "metadata": {
    "id": "Aq0X5QV55ZH4"
   },
   "outputs": [],
   "source": []
  }
 ],
 "metadata": {
  "colab": {
   "provenance": []
  },
  "kernelspec": {
   "display_name": "Python 3 (ipykernel)",
   "language": "python",
   "name": "python3"
  },
  "language_info": {
   "codemirror_mode": {
    "name": "ipython",
    "version": 3
   },
   "file_extension": ".py",
   "mimetype": "text/x-python",
   "name": "python",
   "nbconvert_exporter": "python",
   "pygments_lexer": "ipython3",
   "version": "3.11.5"
  }
 },
 "nbformat": 4,
 "nbformat_minor": 4
}
